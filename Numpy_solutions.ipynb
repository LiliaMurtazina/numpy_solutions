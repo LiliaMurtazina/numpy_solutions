{
  "nbformat": 4,
  "nbformat_minor": 0,
  "metadata": {
    "colab": {
      "provenance": []
    },
    "kernelspec": {
      "name": "python3",
      "display_name": "Python 3"
    },
    "language_info": {
      "name": "python"
    }
  },
  "cells": [
    {
      "cell_type": "code",
      "execution_count": null,
      "metadata": {
        "colab": {
          "base_uri": "https://localhost:8080/"
        },
        "id": "QsePgM3RCuM_",
        "outputId": "d03c845d-202e-4715-c767-9df8fe3ef3a2"
      },
      "outputs": [
        {
          "output_type": "stream",
          "name": "stdout",
          "text": [
            "Numpy is on fire\n"
          ]
        }
      ],
      "source": [
        "print('Numpy is on fire')"
      ]
    },
    {
      "cell_type": "code",
      "source": [
        "#a. Импортируйте библиотеку NumPy\n",
        "import numpy as np"
      ],
      "metadata": {
        "id": "a09H_5DpDhw3"
      },
      "execution_count": null,
      "outputs": []
    },
    {
      "cell_type": "code",
      "source": [
        "#b. Создайте массив из 10 нулей\n",
        "b=np.zeros(10)\n",
        "print(b)"
      ],
      "metadata": {
        "colab": {
          "base_uri": "https://localhost:8080/"
        },
        "id": "xZXoUuppDtKO",
        "outputId": "011d5b27-cc80-452c-cf92-0e3455aff5aa"
      },
      "execution_count": null,
      "outputs": [
        {
          "output_type": "stream",
          "name": "stdout",
          "text": [
            "[0. 0. 0. 0. 0. 0. 0. 0. 0. 0.]\n"
          ]
        }
      ]
    },
    {
      "cell_type": "code",
      "source": [
        "#c. Создать массив из 10 единиц\n",
        "c=np.ones(10)\n",
        "print(c)"
      ],
      "metadata": {
        "colab": {
          "base_uri": "https://localhost:8080/"
        },
        "id": "QojYgBPkDyS2",
        "outputId": "25167b86-1f5c-4bfd-8c56-ae99a5d8db4a"
      },
      "execution_count": null,
      "outputs": [
        {
          "output_type": "stream",
          "name": "stdout",
          "text": [
            "[1. 1. 1. 1. 1. 1. 1. 1. 1. 1.]\n"
          ]
        }
      ]
    },
    {
      "cell_type": "code",
      "source": [
        "#d. Создать массив из 10 пятерок\n",
        "d=np.ones(10)*5\n",
        "print(d)"
      ],
      "metadata": {
        "colab": {
          "base_uri": "https://localhost:8080/"
        },
        "id": "UkTsOxEhD2vk",
        "outputId": "c9184b60-7749-44ff-bee6-37773360effe"
      },
      "execution_count": null,
      "outputs": [
        {
          "output_type": "stream",
          "name": "stdout",
          "text": [
            "[5. 5. 5. 5. 5. 5. 5. 5. 5. 5.]\n"
          ]
        }
      ]
    },
    {
      "cell_type": "code",
      "source": [
        "#e. Создать массив из целых чисел от 10 до 50\n",
        "e=np.arange(10,51)\n",
        "print(e)"
      ],
      "metadata": {
        "colab": {
          "base_uri": "https://localhost:8080/"
        },
        "id": "I7rToutdD6D2",
        "outputId": "53591b51-c1d2-4641-9b07-ab22015b356c"
      },
      "execution_count": null,
      "outputs": [
        {
          "output_type": "stream",
          "name": "stdout",
          "text": [
            "[10 11 12 13 14 15 16 17 18 19 20 21 22 23 24 25 26 27 28 29 30 31 32 33\n",
            " 34 35 36 37 38 39 40 41 42 43 44 45 46 47 48 49 50]\n"
          ]
        }
      ]
    },
    {
      "cell_type": "code",
      "source": [
        "#f. Создать массив из четных чисел от 10 до 50\n",
        "f=np.arange(10,51,2)\n",
        "print(f)"
      ],
      "metadata": {
        "colab": {
          "base_uri": "https://localhost:8080/"
        },
        "id": "q9k8Ho_PD-gz",
        "outputId": "0c0c04d0-aa9d-429e-aa47-756623580d2c"
      },
      "execution_count": null,
      "outputs": [
        {
          "output_type": "stream",
          "name": "stdout",
          "text": [
            "[10 12 14 16 18 20 22 24 26 28 30 32 34 36 38 40 42 44 46 48 50]\n"
          ]
        }
      ]
    },
    {
      "cell_type": "code",
      "source": [
        "#g. Создать матрицу 3х3 с числами от 0 до 8\n",
        "g=np.arange(0,9)\n",
        "print(g.reshape(3,3))"
      ],
      "metadata": {
        "colab": {
          "base_uri": "https://localhost:8080/"
        },
        "id": "WDs0jSoSED3R",
        "outputId": "f857f361-4081-48f9-b4f7-752cdf9e1706"
      },
      "execution_count": null,
      "outputs": [
        {
          "output_type": "stream",
          "name": "stdout",
          "text": [
            "[[0 1 2]\n",
            " [3 4 5]\n",
            " [6 7 8]]\n"
          ]
        }
      ]
    },
    {
      "cell_type": "code",
      "source": [
        "#h. Создать единичную матрицу 3x3\n",
        "h=np.ones((3,3))\n",
        "print(h)"
      ],
      "metadata": {
        "colab": {
          "base_uri": "https://localhost:8080/"
        },
        "id": "SNywMC34EHEn",
        "outputId": "ad063f4c-eb2b-495d-db23-4924e769ee63"
      },
      "execution_count": null,
      "outputs": [
        {
          "output_type": "stream",
          "name": "stdout",
          "text": [
            "[[1. 1. 1.]\n",
            " [1. 1. 1.]\n",
            " [1. 1. 1.]]\n"
          ]
        }
      ]
    },
    {
      "cell_type": "code",
      "source": [
        "#i. Используйте NumPy для генерации случайного числа от 0 до 1\n",
        "i=np.random.rand()\n",
        "print(i)"
      ],
      "metadata": {
        "colab": {
          "base_uri": "https://localhost:8080/"
        },
        "id": "5BA95Nw0EOln",
        "outputId": "010c274e-aaaa-4b90-fa03-70b76c92e7e4"
      },
      "execution_count": null,
      "outputs": [
        {
          "output_type": "stream",
          "name": "stdout",
          "text": [
            "0.3307257192299373\n"
          ]
        }
      ]
    },
    {
      "cell_type": "code",
      "source": [
        "#j. Используйте NumPy для генерации массива из 25 случайных чисел, взятых из стандартного нормального распределения\n",
        "j=np.random.randn(25)\n",
        "print(j)"
      ],
      "metadata": {
        "colab": {
          "base_uri": "https://localhost:8080/"
        },
        "id": "117uuiR_ERsA",
        "outputId": "6df897bf-e051-4049-d73a-2aba3b0f5aa6"
      },
      "execution_count": null,
      "outputs": [
        {
          "output_type": "stream",
          "name": "stdout",
          "text": [
            "[-1.52067429 -0.19418143  1.67564287 -0.51496976 -0.24682035 -0.07377296\n",
            " -0.78854348 -1.03862196  0.35419063 -2.36466968  0.72950027  0.71939321\n",
            "  1.07683549  1.12332054  0.0610319   1.0806085   0.75422632 -0.82911259\n",
            " -1.65660929  1.53638715  0.40439266  1.59410353  0.71980857  0.73271493\n",
            "  1.37745227]\n"
          ]
        }
      ]
    },
    {
      "cell_type": "code",
      "source": [
        "#k\n",
        "k=np.arange(1,101)/100\n",
        "print(k.reshape(10,10))"
      ],
      "metadata": {
        "colab": {
          "base_uri": "https://localhost:8080/"
        },
        "id": "GyNfKj22EYaG",
        "outputId": "12716d03-5d64-460c-cf53-ad5b43ac61d9"
      },
      "execution_count": null,
      "outputs": [
        {
          "output_type": "stream",
          "name": "stdout",
          "text": [
            "[[0.01 0.02 0.03 0.04 0.05 0.06 0.07 0.08 0.09 0.1 ]\n",
            " [0.11 0.12 0.13 0.14 0.15 0.16 0.17 0.18 0.19 0.2 ]\n",
            " [0.21 0.22 0.23 0.24 0.25 0.26 0.27 0.28 0.29 0.3 ]\n",
            " [0.31 0.32 0.33 0.34 0.35 0.36 0.37 0.38 0.39 0.4 ]\n",
            " [0.41 0.42 0.43 0.44 0.45 0.46 0.47 0.48 0.49 0.5 ]\n",
            " [0.51 0.52 0.53 0.54 0.55 0.56 0.57 0.58 0.59 0.6 ]\n",
            " [0.61 0.62 0.63 0.64 0.65 0.66 0.67 0.68 0.69 0.7 ]\n",
            " [0.71 0.72 0.73 0.74 0.75 0.76 0.77 0.78 0.79 0.8 ]\n",
            " [0.81 0.82 0.83 0.84 0.85 0.86 0.87 0.88 0.89 0.9 ]\n",
            " [0.91 0.92 0.93 0.94 0.95 0.96 0.97 0.98 0.99 1.  ]]\n"
          ]
        }
      ]
    },
    {
      "cell_type": "code",
      "source": [
        "#l # это наша стартовая матрица\n",
        "mat = np.arange(1,26).reshape(5,5)\n",
        "print(mat)\n",
        "print('------------------')\n",
        "l = np.setdiff1d(mat, [16, 21])\n",
        "print(l[11:].reshape(3,4))"
      ],
      "metadata": {
        "colab": {
          "base_uri": "https://localhost:8080/"
        },
        "id": "AffF013wEZ3j",
        "outputId": "1930be29-9da4-494b-f101-8a5e45d54e01"
      },
      "execution_count": null,
      "outputs": [
        {
          "output_type": "stream",
          "name": "stdout",
          "text": [
            "[[ 1  2  3  4  5]\n",
            " [ 6  7  8  9 10]\n",
            " [11 12 13 14 15]\n",
            " [16 17 18 19 20]\n",
            " [21 22 23 24 25]]\n",
            "------------------\n",
            "[[12 13 14 15]\n",
            " [17 18 19 20]\n",
            " [22 23 24 25]]\n"
          ]
        }
      ]
    },
    {
      "cell_type": "code",
      "source": [
        "#m Написать код обращения к элементу который вернет значение 20 изстартовой матрицы задачи l.\n",
        "m=mat[3,4]\n",
        "print(m)\n"
      ],
      "metadata": {
        "colab": {
          "base_uri": "https://localhost:8080/"
        },
        "id": "VG8Hpwr0Ea2w",
        "outputId": "1002ce8d-f412-4d07-80de-83dc5f5d681c"
      },
      "execution_count": null,
      "outputs": [
        {
          "output_type": "stream",
          "name": "stdout",
          "text": [
            "20\n"
          ]
        }
      ]
    },
    {
      "cell_type": "code",
      "source": [
        "#n Написать код к стартовой матрице задачи l , который воспроизводит вывод, показанный ниже\n",
        "n=mat[0:3,1]\n",
        "print(n.reshape(3,1))"
      ],
      "metadata": {
        "colab": {
          "base_uri": "https://localhost:8080/"
        },
        "id": "LYC6DvvjEbsQ",
        "outputId": "bc5cb574-95a7-4420-e5f3-d8bee58dec7e"
      },
      "execution_count": null,
      "outputs": [
        {
          "output_type": "stream",
          "name": "stdout",
          "text": [
            "[[ 2]\n",
            " [ 7]\n",
            " [12]]\n"
          ]
        }
      ]
    },
    {
      "cell_type": "code",
      "source": [
        "#o Написать код к стартовой матрице задачи l , который воспроизводит вывод, показанный ниже\n",
        "o=mat[4,0::]\n",
        "print(o)"
      ],
      "metadata": {
        "id": "TyQuBa-dEcc2",
        "colab": {
          "base_uri": "https://localhost:8080/"
        },
        "outputId": "a3178a7c-5510-4fb6-8712-83df55e05814"
      },
      "execution_count": null,
      "outputs": [
        {
          "output_type": "stream",
          "name": "stdout",
          "text": [
            "[21 22 23 24 25]\n"
          ]
        }
      ]
    },
    {
      "cell_type": "code",
      "source": [
        "#p Написать код к стартовой матрице задачи l , который воспроизводит вывод, показанный ниже\n",
        "p=mat[3:5,0::]\n",
        "print(p)"
      ],
      "metadata": {
        "id": "V-EJL28sEdqT",
        "colab": {
          "base_uri": "https://localhost:8080/"
        },
        "outputId": "740b448b-c3af-4445-846f-b4c1475cbcfd"
      },
      "execution_count": null,
      "outputs": [
        {
          "output_type": "stream",
          "name": "stdout",
          "text": [
            "[[16 17 18 19 20]\n",
            " [21 22 23 24 25]]\n"
          ]
        }
      ]
    },
    {
      "cell_type": "code",
      "source": [
        "#q Получить сумму всех значений в стартовой матрице mat\n",
        "print(mat.sum())"
      ],
      "metadata": {
        "colab": {
          "base_uri": "https://localhost:8080/"
        },
        "id": "q--BEQUsEeZx",
        "outputId": "f8d6e504-9d51-41d4-9281-d0ac8fb34a13"
      },
      "execution_count": null,
      "outputs": [
        {
          "output_type": "stream",
          "name": "stdout",
          "text": [
            "325\n"
          ]
        }
      ]
    },
    {
      "cell_type": "code",
      "source": [
        "#r Получить стандартное отклонение в стартовой матрице mat\n",
        "print(mat.std())"
      ],
      "metadata": {
        "colab": {
          "base_uri": "https://localhost:8080/"
        },
        "id": "5PloHG5wEfHo",
        "outputId": "1877f492-b3c6-4368-e5c5-b37a3068daf6"
      },
      "execution_count": null,
      "outputs": [
        {
          "output_type": "stream",
          "name": "stdout",
          "text": [
            "7.211102550927978\n"
          ]
        }
      ]
    },
    {
      "cell_type": "code",
      "source": [
        "#s Получить сумму значений в колонках в стартовой матрице mat\n",
        "s=np.sum(mat,axis=0)\n",
        "print(s)"
      ],
      "metadata": {
        "id": "T4sn5tBBEgZ_",
        "colab": {
          "base_uri": "https://localhost:8080/"
        },
        "outputId": "d94dfb62-6dab-4d04-f8a7-e5fa696b03b7"
      },
      "execution_count": null,
      "outputs": [
        {
          "output_type": "stream",
          "name": "stdout",
          "text": [
            "[55 60 65 70 75]\n"
          ]
        }
      ]
    }
  ]
}